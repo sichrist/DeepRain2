{
 "cells": [
  {
   "cell_type": "code",
   "execution_count": 1,
   "metadata": {},
   "outputs": [
    {
     "name": "stderr",
     "output_type": "stream",
     "text": [
      "Using TensorFlow backend.\n"
     ]
    },
    {
     "name": "stdout",
     "output_type": "stream",
     "text": [
      "Num GPUs Available: 1\n",
      "\u001b[33mFound Year \u001b[0m:  2017 => won't download this year again... please check for consistency\n",
      "\u001b[32mFinished Loading Dataset\n",
      " \u001b[0m\n"
     ]
    }
   ],
   "source": [
    "from Utils.loadset import getDataSet\n",
    "from tensorflow.keras import Sequential, Model\n",
    "from tensorflow.keras.layers import *\n",
    "from tensorflow.keras.optimizers import Adam\n",
    "import tensorflow as tf\n",
    "import tensorflow_probability as tfp\n",
    "tfk = tf.keras\n",
    "tfkl = tf.keras.layers\n",
    "tfpl = tfp.layers\n",
    "tfd = tfp.distributions\n",
    "import os\n",
    "from trainer import Trainer\n",
    "try:\n",
    "    from Utils.connection_cfg import *\n",
    "except Exception as e:\n",
    "    PSWD = None\n",
    "    USRN = None\n",
    "    \n",
    "from Utils.Data import dataWrapper\n",
    "from Utils.transform import cutOut, ToCategorical\n",
    "\n",
    "dimension = (64,64)\n",
    "batch_size = 60\n",
    "channels = 5\n",
    "optimizer = Adam( lr = 1e-3 )\n",
    "slices = [256,320,256,320]\n",
    "cutOutFrame = cutOut(slices)\n",
    "\n",
    "categorical_list = [0,1,5,10,15,30,60,120]\n",
    "categorical = ToCategorical(categorical_list)\n",
    "\n",
    "PRETRAINING_TRANSFORMATIONS = [cutOutFrame]\n",
    "TRANSFORMATIONS = [categorical]\n",
    "#TRANSFORMATIONS = None\n",
    "\n",
    "def NLL(y_true, y_hat):\n",
    "    return -y_hat.log_prob(y_true)\n",
    "\n",
    "\n",
    "def provideData(flatten=False,dimension=dimension,batch_size=60,transform=None,preTransformation=None):\n",
    "\n",
    "    getDataSet(DatasetFolder,year=[2017],username=USRN,pswd=PSWD)\n",
    "    train,test = dataWrapper(PathToData,\n",
    "                            dimension=dimension,\n",
    "                            channels=channels,\n",
    "                            batch_size=batch_size,\n",
    "                            overwritecsv=True,\n",
    "                            flatten=flatten,\n",
    "                            onlyUseYears=[2017],\n",
    "                            transform=transform,\n",
    "                            preTransformation=preTransformation)\n",
    "    \n",
    "    return train,test\n",
    "DatasetFolder = \"./Data/RAW\"\n",
    "PathToData = os.path.join(DatasetFolder,\"MonthPNGData\")\n",
    "\n",
    "train, test = provideData(dimension=dimension,\n",
    "                          batch_size=batch_size,\n",
    "                          transform=TRANSFORMATIONS,\n",
    "                          preTransformation=PRETRAINING_TRANSFORMATIONS)"
   ]
  },
  {
   "cell_type": "code",
   "execution_count": null,
   "metadata": {},
   "outputs": [],
   "source": []
  },
  {
   "cell_type": "code",
   "execution_count": 3,
   "metadata": {},
   "outputs": [
    {
     "name": "stdout",
     "output_type": "stream",
     "text": [
      "tf.Tensor(\n",
      "[[ 0 20 60]\n",
      " [ 0  0  0]\n",
      " [10  0  0]], shape=(3, 3), dtype=int32)\n",
      "(3, 3, 7)\n"
     ]
    }
   ],
   "source": [
    "test = tf.constant([[0,20,60],[0,0,0],[10,0,0]])\n",
    "#categorical_list = [0,1,5,10,15,30,60,120]\n",
    "#categorical = ToCategorical(categorical_list)\n",
    "print(test)\n",
    "print(categorical(test).shape)"
   ]
  }
 ],
 "metadata": {
  "kernelspec": {
   "display_name": "Python 3",
   "language": "python",
   "name": "python3"
  },
  "language_info": {
   "codemirror_mode": {
    "name": "ipython",
    "version": 3
   },
   "file_extension": ".py",
   "mimetype": "text/x-python",
   "name": "python",
   "nbconvert_exporter": "python",
   "pygments_lexer": "ipython3",
   "version": "3.6.10"
  }
 },
 "nbformat": 4,
 "nbformat_minor": 4
}
