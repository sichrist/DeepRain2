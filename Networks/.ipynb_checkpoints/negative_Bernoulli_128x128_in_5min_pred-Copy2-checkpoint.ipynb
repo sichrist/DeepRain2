{
 "cells": [
  {
   "cell_type": "code",
   "execution_count": 1,
   "metadata": {},
   "outputs": [
    {
     "name": "stdout",
     "output_type": "stream",
     "text": [
      "Num GPUs: 1\n",
      "Num GPUs Available: 1\n"
     ]
    },
    {
     "name": "stderr",
     "output_type": "stream",
     "text": [
      "Using TensorFlow backend.\n"
     ]
    }
   ],
   "source": [
    "from Utils.loadset import getDataSet\n",
    "from tensorflow.keras import Sequential, Model\n",
    "from tensorflow.keras.layers import *\n",
    "from tensorflow.keras.optimizers import Adam\n",
    "import tensorflow as tf\n",
    "import tensorflow_probability as tfp\n",
    "import os\n",
    "physical_devices = tf.config.list_physical_devices('GPU') \n",
    "print(\"Num GPUs:\", len(physical_devices)) \n",
    "\n",
    "from trainer import Trainer\n",
    "try:\n",
    "    from Utils.connection_cfg import *\n",
    "except Exception as e:\n",
    "    PSWD = None\n",
    "    USRN = None\n",
    "    \n",
    "from Utils.Data import dataWrapper, provideData\n",
    "from Utils.transform import cutOut, LinearMapping\n",
    "\n",
    "\n",
    "tfd = tfp.distributions\n",
    "def NLL(y_true, y_hat):\n",
    "    return -y_hat.log_prob(y_true)"
   ]
  },
  {
   "cell_type": "code",
   "execution_count": 2,
   "metadata": {},
   "outputs": [
    {
     "name": "stdout",
     "output_type": "stream",
     "text": [
      "\u001b[33mFound Year \u001b[0m:  2017 => won't download this year again... please check for consistency\n",
      "\u001b[32mFinished Loading Dataset\n",
      " \u001b[0m\n",
      "[DEBUG] Data\n",
      "[DEBUG] time to predict:  5\n",
      "SORTTING OUUUT 30796\n",
      "[DEBUG] Data\n",
      "[DEBUG] time to predict:  5\n",
      "SORTTING OUUUT 13325\n"
     ]
    }
   ],
   "source": [
    "dimension = (128,128)\n",
    "channels = 7\n",
    "\n",
    "slices = [400,528,400,528]\n",
    "slices_label = [32,64+32,32,64+32]\n",
    "cutOutFrame = cutOut(slices)\n",
    "linearmap = LinearMapping()\n",
    "cutOutFrame_label = cutOut(slices_label)\n",
    "years = [2017]\n",
    "PRETRAINING_TRANSFORMATIONS = [cutOutFrame]\n",
    "TRANSFORMATION = [cutOutFrame_label,linearmap]\n",
    "batch_size = 200\n",
    "\n",
    "train, test = provideData(dimension=dimension,\n",
    "                          batch_size=batch_size,\n",
    "                          channels = channels,\n",
    "                          timeToPred = 5,\n",
    "                          onlyUseYears=[2017],\n",
    "                          transform=TRANSFORMATION,\n",
    "                          preTransformation=PRETRAINING_TRANSFORMATIONS)"
   ]
  },
  {
   "cell_type": "code",
   "execution_count": 3,
   "metadata": {},
   "outputs": [
    {
     "name": "stderr",
     "output_type": "stream",
     "text": [
      "/home/simon/Dokumente/Teamprojekt/DeepRain2/Networks/Utils/transform.py:120: FutureWarning: Using a non-tuple sequence for multidimensional indexing is deprecated; use `arr[tuple(seq)]` instead of `arr[seq]`. In the future this will be interpreted as an array index, `arr[np.array(seq)]`, which will result either in an error or a different result.\n",
      "  return img[self.slices]\n"
     ]
    },
    {
     "name": "stdout",
     "output_type": "stream",
     "text": [
      "0.1\n"
     ]
    },
    {
     "data": {
      "image/png": "[encoded data removed]",
      "text/plain": [
       "<Figure size 432x288 with 1 Axes>"
      ]
     },
     "metadata": {
      "needs_background": "light"
     },
     "output_type": "display_data"
    },
    {
     "data": {
      "image/png": "[encoded data removed]",
      "text/plain": [
       "<Figure size 432x288 with 1 Axes>"
      ]
     },
     "metadata": {
      "needs_background": "light"
     },
     "output_type": "display_data"
    }
   ],
   "source": [
    "import matplotlib.pyplot as plt\n",
    "from matplotlib import cm\n",
    "from matplotlib.pyplot import figure\n",
    "\n",
    "x,y = train[10]\n",
    "print(x[0].max())\n",
    "\n",
    "plt.imshow(x[0,:,:,-1]*10)\n",
    "plt.show()\n",
    "plt.imshow(y[0,:,:,-1]*10)\n",
    "plt.show()"
   ]
  },
  {
   "cell_type": "code",
   "execution_count": 4,
   "metadata": {},
   "outputs": [
    {
     "name": "stdout",
     "output_type": "stream",
     "text": [
      "\n"
     ]
    }
   ],
   "source": [
    "\"\"\"\n",
    "import cv2 as cv\n",
    "import numpy as np\n",
    "windowname = 'OpenCvFrame'\n",
    "cv.destroyAllWindows()\n",
    "cv.namedWindow(windowname)\n",
    "cv.moveWindow(windowname,0,0)\n",
    "\n",
    "for x,y in train:\n",
    "    label = y\n",
    "    print(x.shape,y.shape)\n",
    "    batchsize = x.shape[0]\n",
    "    for i in range(batchsize):\n",
    "        z = np.ones((x.shape[1:3]))\n",
    "        print(\"{:.4f}, {:.4f}\".format(x[i,:,:,-1].max(),y[i,:,:,:].max()),end=\"\\r\")\n",
    "        z[32:128-32,32:128-32] = y[i,:,:,0]\n",
    "\n",
    "        frame = np.concatenate((x[i,:,:,-1],z),axis=1)*255\n",
    "        #frame[np.where(frame > 0)] = 255\n",
    "        #print(frame.max(),frame.shape,end=\"\\r\")\n",
    "        cv.imshow(windowname,frame.astype(np.uint8)[:,:])\n",
    "        if cv.waitKey(25) & 0XFF == ord('q'):\n",
    "                break\n",
    "cv.destroyAllWindows()\n",
    "\"\"\"\n",
    "print()"
   ]
  },
  {
   "cell_type": "code",
   "execution_count": 5,
   "metadata": {},
   "outputs": [],
   "source": [
    "\n",
    "def negative_Binomial_Unet_128x128IN_LinMapping(input_shape,\n",
    "                           activation_hidden=\"relu\",\n",
    "                           activation_output=\"relu\"):\n",
    "\n",
    "\n",
    "    inputs = Input(shape=input_shape) \n",
    "\n",
    "    conv01 = Conv2D(14, kernel_size=(3, 3), padding=\"same\")(inputs)       # 10 x 64x64\n",
    "    conv01 = Activation(activation_hidden)(conv01)\n",
    "    conv01_pool = MaxPooling2D((2, 2), strides=(2, 2))(conv01)            # 10 x 32x32\n",
    "\n",
    "\n",
    "    conv02 = Conv2D(20, kernel_size=(3, 3), padding=\"same\")(conv01_pool)  # 20 x 32x32\n",
    "    conv02 = Activation(activation_hidden)(conv02)\n",
    "    conv02_pool = MaxPooling2D((2, 2), strides=(2, 2))(conv02)            # 20 x 16x16\n",
    "\n",
    "\n",
    "    conv03 = Conv2D(20, kernel_size=(3, 3), padding=\"same\")(conv02_pool)  # 20 x 16x16\n",
    "    conv03 = Activation(activation_hidden)(conv03)\n",
    "    conv03_pool = MaxPooling2D((2, 2), strides=(2, 2))(conv03)            # 20 x 8x8\n",
    "\n",
    "\n",
    "    conv04 = Conv2D(20, kernel_size=(3, 3), padding=\"same\")(conv03_pool)  # 20 x 8x8\n",
    "    conv04 = Activation(activation_hidden)(conv04)\n",
    "    conv04_pool = MaxPooling2D((2, 2), strides=(2, 2))(conv04)            # 20 x 4x4\n",
    "\n",
    "\n",
    "    ### UPSAMPLING:\n",
    "    up04 = UpSampling2D((2, 2))(conv04_pool)    # 20 x 8x8\n",
    "    up04 = concatenate([conv04, up04], axis=3)  # 20+20 x 8x8\n",
    "\n",
    "\n",
    "    up03 = UpSampling2D((2, 2))(up04)           # 40 x 16x16\n",
    "    up03 = concatenate([conv03, up03], axis=3)  # 20+40 x 16x16\n",
    "\n",
    "\n",
    "    up02 = UpSampling2D((2, 2))(up03)           # 60 x 32x32\n",
    "    up01 = concatenate([conv02, up02], axis=3)  # 20+60 x 32x32\n",
    "\n",
    "\n",
    "    #up01 = UpSampling2D((2, 2))(up02)           # 80 x 64x64\n",
    "    #up01 = concatenate([conv01, up01], axis=3)  # 10+80 x 64x64\n",
    "    \n",
    "    \n",
    "    output = Conv2D(1, (1, 1), activation=\"relu\")(up01)  # 1 x 64x64\n",
    "    \n",
    "    output = Flatten()(output)\n",
    "    output = Dense(16*16)(output)\n",
    "    output = Dense(64*64)(output)\n",
    "    output = tf.keras.layers.Reshape((64,64,1))(output)\n",
    "    \n",
    "    \"\"\"\n",
    "    shape = tf.shape(output)\n",
    "    shape = output.shape\n",
    " \n",
    "    \n",
    "    max_count = output[:,:,:,:1]\n",
    "    prob      = output[:,:,:,1:2]\n",
    "    max_count = Flatten()(max_count)\n",
    "    prob      = Flatten()(prob)\n",
    "    prob      = Dense(16*16)(prob)\n",
    "    #prob      = Dropout(0.2)(prob)\n",
    "    \n",
    "    max_count      = Dense(64*64)(max_count)\n",
    "    #max_count      = Dropout(0.2)(max_count)\n",
    "    \n",
    "    prob      = Dense(64*64,activation=\"sigmoid\")(prob)\n",
    "    max_count = Dense(64*64,activation=\"sigmoid\")(max_count)\n",
    "    prob      = tf.keras.layers.Reshape((64,64,1))(prob)\n",
    "    max_count = tf.keras.layers.Reshape((64,64,1))(max_count)\n",
    "    input_dist= tf.concat([max_count,prob],axis=-1)\n",
    "    \n",
    "    #print(max_count)\n",
    "    \n",
    "    output_dist = tfp.layers.DistributionLambda(name=\"DistributionLayer\",\n",
    "        make_distribution_fn=lambda t: tfd.Independent(tfp.distributions.NegativeBinomial(\n",
    "            total_count=t[..., :1], probs=t[..., 1:2] ),\n",
    "                                                      reinterpreted_batch_ndims=-1 ))\n",
    "            #,convert_to_tensor_fn=lambda s: s.sample(64,64,1))\n",
    "\n",
    "    output = output_dist(input_dist)\n",
    "    \"\"\"\n",
    "    model = Model(inputs=inputs, outputs=output)\n",
    "    return model"
   ]
  },
  {
   "cell_type": "code",
   "execution_count": 8,
   "metadata": {},
   "outputs": [
    {
     "name": "stdout",
     "output_type": "stream",
     "text": [
      "[Load file failed]  ./model_data/negative_Binomial_Unet_128x128IN_LinMapping_mse/negative_Binomial_Unet_128x128IN_LinMapping_mse128x128x7.h5\n",
      "[Load file failed]  ./model_data/negative_Binomial_Unet_128x128IN_LinMapping_mse/negative_Binomial_Unet_128x128IN_LinMapping_mse128x128x7history.json\n",
      "Model: \"model_1\"\n",
      "__________________________________________________________________________________________________\n",
      "Layer (type)                    Output Shape         Param #     Connected to                     \n",
      "==================================================================================================\n",
      "input_2 (InputLayer)            [(None, 128, 128, 7) 0                                            \n",
      "__________________________________________________________________________________________________\n",
      "conv2d_5 (Conv2D)               (None, 128, 128, 14) 896         input_2[0][0]                    \n",
      "__________________________________________________________________________________________________\n",
      "activation_4 (Activation)       (None, 128, 128, 14) 0           conv2d_5[0][0]                   \n",
      "__________________________________________________________________________________________________\n",
      "max_pooling2d_4 (MaxPooling2D)  (None, 64, 64, 14)   0           activation_4[0][0]               \n",
      "__________________________________________________________________________________________________\n",
      "conv2d_6 (Conv2D)               (None, 64, 64, 20)   2540        max_pooling2d_4[0][0]            \n",
      "__________________________________________________________________________________________________\n",
      "activation_5 (Activation)       (None, 64, 64, 20)   0           conv2d_6[0][0]                   \n",
      "__________________________________________________________________________________________________\n",
      "max_pooling2d_5 (MaxPooling2D)  (None, 32, 32, 20)   0           activation_5[0][0]               \n",
      "__________________________________________________________________________________________________\n",
      "conv2d_7 (Conv2D)               (None, 32, 32, 20)   3620        max_pooling2d_5[0][0]            \n",
      "__________________________________________________________________________________________________\n",
      "activation_6 (Activation)       (None, 32, 32, 20)   0           conv2d_7[0][0]                   \n",
      "__________________________________________________________________________________________________\n",
      "max_pooling2d_6 (MaxPooling2D)  (None, 16, 16, 20)   0           activation_6[0][0]               \n",
      "__________________________________________________________________________________________________\n",
      "conv2d_8 (Conv2D)               (None, 16, 16, 20)   3620        max_pooling2d_6[0][0]            \n",
      "__________________________________________________________________________________________________\n",
      "activation_7 (Activation)       (None, 16, 16, 20)   0           conv2d_8[0][0]                   \n",
      "__________________________________________________________________________________________________\n",
      "max_pooling2d_7 (MaxPooling2D)  (None, 8, 8, 20)     0           activation_7[0][0]               \n",
      "__________________________________________________________________________________________________\n",
      "up_sampling2d_3 (UpSampling2D)  (None, 16, 16, 20)   0           max_pooling2d_7[0][0]            \n",
      "__________________________________________________________________________________________________\n",
      "concatenate_3 (Concatenate)     (None, 16, 16, 40)   0           activation_7[0][0]               \n",
      "                                                                 up_sampling2d_3[0][0]            \n",
      "__________________________________________________________________________________________________\n",
      "up_sampling2d_4 (UpSampling2D)  (None, 32, 32, 40)   0           concatenate_3[0][0]              \n",
      "__________________________________________________________________________________________________\n",
      "concatenate_4 (Concatenate)     (None, 32, 32, 60)   0           activation_6[0][0]               \n",
      "                                                                 up_sampling2d_4[0][0]            \n",
      "__________________________________________________________________________________________________\n",
      "up_sampling2d_5 (UpSampling2D)  (None, 64, 64, 60)   0           concatenate_4[0][0]              \n",
      "__________________________________________________________________________________________________\n",
      "concatenate_5 (Concatenate)     (None, 64, 64, 80)   0           activation_5[0][0]               \n",
      "                                                                 up_sampling2d_5[0][0]            \n",
      "__________________________________________________________________________________________________\n",
      "conv2d_9 (Conv2D)               (None, 64, 64, 1)    81          concatenate_5[0][0]              \n",
      "__________________________________________________________________________________________________\n",
      "flatten_1 (Flatten)             (None, 4096)         0           conv2d_9[0][0]                   \n",
      "__________________________________________________________________________________________________\n",
      "dense_2 (Dense)                 (None, 256)          1048832     flatten_1[0][0]                  \n",
      "__________________________________________________________________________________________________\n",
      "dense_3 (Dense)                 (None, 4096)         1052672     dense_2[0][0]                    \n",
      "__________________________________________________________________________________________________\n",
      "reshape_1 (Reshape)             (None, 64, 64, 1)    0           dense_3[0][0]                    \n",
      "==================================================================================================\n",
      "Total params: 2,112,261\n",
      "Trainable params: 2,112,261\n",
      "Non-trainable params: 0\n",
      "__________________________________________________________________________________________________\n"
     ]
    }
   ],
   "source": [
    "optimizer = Adam( lr = 1e-3 )\n",
    "trainer = Trainer(negative_Binomial_Unet_128x128IN_LinMapping,\n",
    "                    #lossfunction=NLL,\n",
    "                    lossfunction=\"mse\",\n",
    "                    pathToData=(train,test),\n",
    "                    batch_size = batch_size,\n",
    "                    optimizer=optimizer,\n",
    "                    dimension = dimension,\n",
    "                    channels = channels,\n",
    "                    metrics = [\"mse\",\"mae\"])\n",
    "#layer_name=\"DistributionLayer\"\n",
    "#print(trainer.model.get_layer(layer_name).output)"
   ]
  },
  {
   "cell_type": "code",
   "execution_count": null,
   "metadata": {
    "scrolled": false
   },
   "outputs": [
    {
     "name": "stdout",
     "output_type": "stream",
     "text": [
      "Epoch 1/10\n",
      "151/153 [============================>.] - ETA: 0s - loss: 6.2981e-04 - mse: 6.2981e-04 - mae: 0.0057"
     ]
    }
   ],
   "source": [
    "trainer.fit(10)"
   ]
  },
  {
   "cell_type": "code",
   "execution_count": null,
   "metadata": {},
   "outputs": [],
   "source": [
    "import matplotlib.pyplot as plt\n",
    "from matplotlib import cm\n",
    "from matplotlib.pyplot import figure\n",
    "import numpy as np\n",
    "%matplotlib inline\n",
    "history = trainer.history\n",
    "def plotHistory():\n",
    "    # Plot training & validation accuracy values\n",
    "    plt.plot(history['mse'])\n",
    "    plt.plot(history['val_mse'])\n",
    "    plt.title('Model MSE')\n",
    "    plt.ylabel('MSE')\n",
    "    plt.xlabel('Epoch')\n",
    "    plt.legend(['Train', 'Test'], loc='upper left')\n",
    "    plt.show()\n",
    "\n",
    "    # Plot training & validation loss values\n",
    "    plt.plot(history['loss'])\n",
    "    plt.plot(history['val_loss'])\n",
    "    plt.title('Model loss')\n",
    "    plt.ylabel('Loss')\n",
    "    plt.xlabel('Epoch')\n",
    "    plt.legend(['Train', 'Test'], loc='upper left')\n",
    "    plt.show()\n",
    "plotHistory()"
   ]
  },
  {
   "cell_type": "code",
   "execution_count": null,
   "metadata": {},
   "outputs": [],
   "source": [
    "model = trainer.model\n",
    "pred = None\n",
    "label = None\n",
    "pred_ = 20\n",
    "test.on_epoch_end()\n",
    "mean = []\n",
    "stdev = []\n",
    "label = []\n",
    "prediction = []\n",
    "for x,y in train:\n",
    "    for i in range(batch_size):\n",
    "        if y[i,:,:,:].max() > 0:\n",
    "            pred = model(np.array([x[i,:,:,:]]))\n",
    "            prediction.append(pred)\n",
    "            #mean.append(pred.mean())\n",
    "            #stdev.append(pred.stddev())\n",
    "            label.append(y[i,:,:,:])\n",
    "    if len(label) >= pred_:\n",
    "        break\n",
    "        \n"
   ]
  },
  {
   "cell_type": "code",
   "execution_count": null,
   "metadata": {
    "scrolled": false
   },
   "outputs": [],
   "source": [
    "import matplotlib.pyplot as plt\n",
    "from matplotlib import cm\n",
    "from matplotlib.pyplot import figure\n",
    "import numpy as np\n",
    "%matplotlib inline\n",
    "fig, axes = plt.subplots(20, 3, figsize=(16,8*10),dpi=64)\n",
    "#fig.set_title([\"mean\",\"stdev\",\"label\"])\n",
    "for batch,img in enumerate(mean):\n",
    "    if batch == 20:\n",
    "        break\n",
    "    #axes[batch,0].imshow(stdev[batch][0,:,:,0],cmap=\"gray\")\n",
    "    axes[batch,1].imshow(pred[0,:,:,0],cmap=\"gray\")\n",
    "    axes[batch,2].imshow(label[batch][:,:,0],cmap=\"gray\")"
   ]
  },
  {
   "cell_type": "code",
   "execution_count": null,
   "metadata": {
    "scrolled": false
   },
   "outputs": [],
   "source": [
    "def map_Dist_To_Rain(prediction,label):\n",
    "    \n",
    "    x,y,t      = prediction[0][0,:,:,:].shape\n",
    "    rain_true  = np.zeros((x,y,t))\n",
    "    rain_false = rain_true.copy()\n",
    "    \n",
    "    \n",
    "    \n",
    "    ones = np.ones((x,y))\n",
    "    zeros = np.zeros((x,y,t))\n",
    "    value_map = np.array([ones * i/255 for i in range(256)])\n",
    "    value_map = value_map.transpose(1,2,0)\n",
    "    for i,pred in enumerate(prediction):\n",
    "        ones = np.ones((x,y,t)) * 3/255\n",
    "        #print((np.array(pred.prob(ones))).max(axis=-1) )\n",
    "        probs = np.array(pred.prob(value_map))\n",
    "        print(label[i].max())\n",
    "        max_probs = probs.argmax(axis=-1)\n",
    "        #print(probs[0,1,1,:].argmax())\n",
    "\n",
    "        #print(probs.argmax(axis=-1))\n",
    "        #print(probs.max(axis=-1))\n",
    "        for j in range(64):\n",
    "            for k in range(64):\n",
    "                at = np.argmax(probs[0,k,j,:])\n",
    "                if at > 0:\n",
    "                #at = probs[0,k,j,:] .sum()\n",
    "                    print(\"AATT\",at)\n",
    "        #    print(j,\"min:\",probs[:,:,:,j].min(),\"max:\",probs[:,:,:,j].max())\n",
    "        #print(probs.shape)\n",
    "        #print(probs)\n",
    "        #print(pred.prob(0.0))\n",
    "        print(np.array(pred.prob(label[i].max())).max() )\n",
    "        print(np.array(pred.prob(label[i].max())).min() )\n",
    "        if label[i].max() == 0:\n",
    "            continue\n",
    "\n",
    "        print(pred)\n",
    "        s = (1-pred.cdf(zeros))\n",
    "        \n",
    "        #print(np.array(s).max(),np.array(probs.mean()).max(),label[i].max())\n",
    "        \n",
    "        plt.imshow(max_probs[0,:,:],cmap=\"gray\")\n",
    "        plt.show()\n",
    "        plt.imshow(s[0,:,:,0],cmap=\"gray\")\n",
    "        plt.show()\n",
    "        plt.imshow(label[i][:,:,0],cmap=\"gray\")\n",
    "        plt.show()\n",
    "        break\n",
    "    \n",
    "\n",
    "#map_Dist_To_Rain(prediction,label)\n",
    "print(prediction[0])"
   ]
  },
  {
   "cell_type": "code",
   "execution_count": null,
   "metadata": {
    "scrolled": false
   },
   "outputs": [],
   "source": [
    "a = np.arange(10)\n",
    "ind = 5\n",
    "lab = label[ind]\n",
    "print(lab.max())\n",
    "idx = np.where(lab == lab.max() )\n",
    "pred = prediction[ind]\n",
    "#for i in range(512):\n",
    "#    a = np.ones((64,64,1)) * i/255\n",
    "    #print(i,np.array(pred.prob(a)).max() )\n",
    "#print(np.array(pred.mean())[33,28])\n",
    "y = []\n",
    "x = []\n",
    "for i in range(10):\n",
    "    x.append(10)\n",
    "    y.append(np.array(pred.prob(i))[0,idx[0],idx[1],0][0])\n",
    "print(np.array(pred.mean())[0,idx[0],idx[1],0][0])\n",
    "\n",
    "import seaborn as sns\n",
    "import matplotlib.pyplot as plt\n",
    "from scipy import stats\n",
    "\n",
    "sns.set(color_codes=True)\n",
    "sns.set(rc={'figure.figsize':(20,8.27)})\n",
    "sns.barplot(x,y)\n",
    "plt.show()\n",
    "plt.imshow(lab[:,:,0])\n",
    "plt.show()\n",
    "\n",
    "plt.imshow(pred.mean()[0,:,:,0])\n",
    "plt.show()\n",
    "print(np.array(pred.sample()).max(),lab.max())\n",
    "plt.imshow(np.array(pred.prob(lab))[0,:,:,0])"
   ]
  },
  {
   "cell_type": "code",
   "execution_count": null,
   "metadata": {},
   "outputs": [],
   "source": []
  }
 ],
 "metadata": {
  "kernelspec": {
   "display_name": "Python 3",
   "language": "python",
   "name": "python3"
  },
  "language_info": {
   "codemirror_mode": {
    "name": "ipython",
    "version": 3
   },
   "file_extension": ".py",
   "mimetype": "text/x-python",
   "name": "python",
   "nbconvert_exporter": "python",
   "pygments_lexer": "ipython3",
   "version": "3.7.7"
  }
 },
 "nbformat": 4,
 "nbformat_minor": 4
}
