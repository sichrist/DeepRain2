{
 "cells": [
  {
   "cell_type": "code",
   "execution_count": 1,
   "metadata": {},
   "outputs": [
    {
     "name": "stdout",
     "output_type": "stream",
     "text": [
      "Num GPUs Available: 1\n"
     ]
    },
    {
     "name": "stderr",
     "output_type": "stream",
     "text": [
      "Using TensorFlow backend.\n"
     ]
    }
   ],
   "source": [
    "from Utils.loadset import getDataSet\n",
    "from tensorflow.keras import Sequential, Model\n",
    "from tensorflow.keras.layers import *\n",
    "from tensorflow.keras.optimizers import Adam\n",
    "import tensorflow as tf\n",
    "import tensorflow_probability as tfp\n",
    "\n",
    "\n",
    "tfk = tf.keras\n",
    "tfkl = tf.keras.layers\n",
    "tfpl = tfp.layers\n",
    "tfd = tfp.distributions\n",
    "import os\n",
    "from trainer import Trainer\n",
    "try:\n",
    "    from Utils.connection_cfg import *\n",
    "except Exception as e:\n",
    "    PSWD = None\n",
    "    USRN = None\n",
    "    \n",
    "from Utils.Data import dataWrapper\n",
    "from Utils.transform import ToCategorical, cutOut\n"
   ]
  },
  {
   "cell_type": "code",
   "execution_count": 2,
   "metadata": {},
   "outputs": [],
   "source": [
    "def convLayer(inp,nbrLayer,channel,activation=\"relu\"):\n",
    "    assert nbrLayer > 0, \"In Function convLayer nbrLayer > 0 ?\"\n",
    "    layer = Conv2D(channel, kernel_size=(3, 3), padding=\"same\") (inp)\n",
    "    layer = Activation(activation)(layer)\n",
    "    layer = BatchNormalization()(layer)\n",
    "    \n",
    "    for i in range(1,nbrLayer):\n",
    "        layer = Conv2D(channel, kernel_size=(3, 3), padding=\"same\")  (layer)\n",
    "        layer = Activation(activation)(layer)\n",
    "        layer = BatchNormalization()(layer)\n",
    "    return layer\n",
    "\n",
    "#def FullUnetLoop(input_shape,down_channels=[64,128,256,512,1024],downLayer=2,activation=\"relu\"):\n",
    "\n",
    "def FullUnetLoop(input_shape,down_channels=[64,92,128,256,512],downLayer=2,activation=\"selu\"):\n",
    "\n",
    "    def zeroInflatedPoisson(output):\n",
    "        rate = tf.math.softplus(output[:,:,:,0:1]) #A \n",
    "        s = tf.math.sigmoid(output[:,:,:,1:2])\n",
    "        components = [tfd.Deterministic(loc=tf.zeros_like(rate)), #E\n",
    "         tfd.Poisson(rate=rate) #F \n",
    "         ]\n",
    "        mixture = tfd.Mixture(\n",
    "              cat=tfd.Categorical(probs=tf.stack([1-s, s],axis=-1)),#D\n",
    "              components=components)\n",
    "        return mixture\n",
    "    \n",
    "    inputs = Input(shape=input_shape)\n",
    "    \n",
    "    layer = Conv2D(down_channels[0], kernel_size=(3, 3), padding=\"same\") (inputs)\n",
    "    layer = Activation(activation)(layer)\n",
    "    layer = BatchNormalization()(layer)\n",
    "    \n",
    "    layer = Conv2D(down_channels[0], kernel_size=(3, 3), padding=\"same\") (layer)\n",
    "    layer = Activation(activation)(layer)\n",
    "    firstLayer = BatchNormalization()(layer)\n",
    "    \n",
    "    pool  = MaxPooling2D((2, 2), strides=(2, 2))(firstLayer)\n",
    "    \n",
    "    layerArray = []\n",
    "    \n",
    "    for channel in down_channels[1:]:\n",
    "        \n",
    "        layer = convLayer(pool,downLayer,channel)\n",
    "       \n",
    "        if channel != down_channels[-1]:\n",
    "            layerArray.append(layer)\n",
    "            pool  = MaxPooling2D((2, 2), strides=(2, 2))(layer)\n",
    "            \n",
    "    for i,channel in enumerate(reversed(down_channels[:-1])):\n",
    "        \n",
    "        layer = Conv2DTranspose(channel,(3, 3),strides=(2,2),padding=\"same\")(layer)\n",
    "        layer = Activation(activation)(layer)\n",
    "        layer = BatchNormalization() (layer)\n",
    "        \n",
    "        if len(layerArray) >= (i+1):\n",
    "            layer = concatenate([layerArray[-(i+1)], layer], axis=3)\n",
    "        else:\n",
    "            layer = concatenate([firstLayer, layer], axis=3)\n",
    "        \n",
    "        layer = convLayer(layer,downLayer,channel)\n",
    "        \n",
    "    output = Conv2D(1, kernel_size=(1, 1), padding=\"same\",activation=tf.math.softplus) (layer)\n",
    "    #output = Conv2D(1, kernel_size=(1, 1), padding=\"same\",activation=None) (output)\n",
    "    #layer = Activation(\"softmax\")(output)\n",
    "    #output = Activation(\"relu\")(output)\n",
    "    #output = Activation(tf.math.softplus)(output)\n",
    "\n",
    "    #output = tfp.layers.DistributionLambda(zeroInflatedPoisson)(output)\n",
    "    \n",
    "    output = Flatten()(output)\n",
    "    #output = tf.math.exp(output)\n",
    "    output = tfp.layers.IndependentPoisson( (64,64,1) )(output)\n",
    "    model = Model(inputs=inputs, outputs=output)\n",
    "    return model"
   ]
  },
  {
   "cell_type": "code",
   "execution_count": 3,
   "metadata": {},
   "outputs": [
    {
     "name": "stdout",
     "output_type": "stream",
     "text": [
      "\u001b[33mFound Year \u001b[0m:  2017 => won't download this year again... please check for consistency\n",
      "\u001b[32mFinished Loading Dataset\n",
      " \u001b[0m\n"
     ]
    }
   ],
   "source": [
    "dimension = (64,64)\n",
    "batch_size = 100\n",
    "channels = 5\n",
    "optimizer = Adam( lr = 1e-6 )\n",
    "slices = [256,320,256,320]\n",
    "cutOutFrame = cutOut(slices)\n",
    "\n",
    "categorical_list = [0,1,5,10,15,30,60,120]\n",
    "categorical = ToCategorical(categorical_list)\n",
    "\n",
    "PRETRAINING_TRANSFORMATIONS = [cutOutFrame]\n",
    "TRANSFORMATIONS = [categorical]\n",
    "TRANSFORMATIONS = None\n",
    "\n",
    "def NLL(y_true, y_hat):\n",
    "    return -y_hat.log_prob(y_true)\n",
    "\n",
    "\n",
    "def provideData(flatten=False,dimension=dimension,batch_size=60,transform=None,preTransformation=None):\n",
    "\n",
    "    getDataSet(DatasetFolder,year=[2017],username=USRN,pswd=PSWD)\n",
    "    train,test = dataWrapper(PathToData,\n",
    "                            dimension=dimension,\n",
    "                            channels=channels,\n",
    "                            batch_size=batch_size,\n",
    "                            overwritecsv=True,\n",
    "                            flatten=flatten,\n",
    "                            onlyUseYears=[2017],\n",
    "                            transform=transform,\n",
    "                            preTransformation=preTransformation)\n",
    "    \n",
    "    return train,test\n",
    "DatasetFolder = \"./Data/RAW\"\n",
    "PathToData = os.path.join(DatasetFolder,\"MonthPNGData\")\n",
    "\n",
    "train, test = provideData(dimension=dimension,\n",
    "                          batch_size=batch_size,\n",
    "                          transform=TRANSFORMATIONS,\n",
    "                          preTransformation=PRETRAINING_TRANSFORMATIONS)"
   ]
  },
  {
   "cell_type": "code",
   "execution_count": null,
   "metadata": {
    "scrolled": false
   },
   "outputs": [],
   "source": [
    "t = Trainer(FullUnetLoop,\n",
    "                    NLL,\n",
    "                    (train,test),\n",
    "                    batch_size = batch_size,\n",
    "                    optimizer=optimizer,\n",
    "                    dimension = dimension,\n",
    "                    channels = channels,\n",
    "                    metrics = [\"mse\",\"mae\"])\n",
    "\n",
    "print(\"len train,val\",len(train),len(test))"
   ]
  },
  {
   "cell_type": "code",
   "execution_count": null,
   "metadata": {
    "scrolled": false
   },
   "outputs": [],
   "source": [
    "t.fit(200)"
   ]
  },
  {
   "cell_type": "code",
   "execution_count": null,
   "metadata": {},
   "outputs": [],
   "source": [
    "!pip install matplotlib\n",
    "import matplotlib.pyplot as plt\n",
    "from matplotlib import cm\n",
    "from matplotlib.pyplot import figure\n",
    "import numpy as np\n",
    "%matplotlib inline\n",
    "history = t.history\n",
    "def plotHistory():\n",
    "    # Plot training & validation accuracy values\n",
    "    plt.plot(history['mse'])\n",
    "    plt.plot(history['val_mse'])\n",
    "    plt.title('Model MSE')\n",
    "    plt.ylabel('MSE')\n",
    "    plt.xlabel('Epoch')\n",
    "    plt.legend(['Train', 'Test'], loc='upper left')\n",
    "    plt.show()\n",
    "\n",
    "    # Plot training & validation loss values\n",
    "    plt.plot(history['loss'])\n",
    "    plt.plot(history['val_loss'])\n",
    "    plt.title('Model loss')\n",
    "    plt.ylabel('Loss')\n",
    "    plt.xlabel('Epoch')\n",
    "    plt.legend(['Train', 'Test'], loc='upper left')\n",
    "    plt.show()\n",
    "plotHistory()"
   ]
  }
 ],
 "metadata": {
  "kernelspec": {
   "display_name": "Python 3",
   "language": "python",
   "name": "python3"
  },
  "language_info": {
   "codemirror_mode": {
    "name": "ipython",
    "version": 3
   },
   "file_extension": ".py",
   "mimetype": "text/x-python",
   "name": "python",
   "nbconvert_exporter": "python",
   "pygments_lexer": "ipython3",
   "version": "3.6.10"
  }
 },
 "nbformat": 4,
 "nbformat_minor": 4
}
