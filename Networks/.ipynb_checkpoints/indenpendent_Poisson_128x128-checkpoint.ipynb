{
 "cells": [
  {
   "cell_type": "code",
   "execution_count": 1,
   "metadata": {},
   "outputs": [
    {
     "name": "stdout",
     "output_type": "stream",
     "text": [
      "Num GPUs: 1\n",
      "Num GPUs Available: 1\n"
     ]
    },
    {
     "name": "stderr",
     "output_type": "stream",
     "text": [
      "Using TensorFlow backend.\n"
     ]
    }
   ],
   "source": [
    "from Utils.loadset import getDataSet\n",
    "from tensorflow.keras import Sequential, Model\n",
    "from tensorflow.keras.layers import *\n",
    "from tensorflow.keras.optimizers import Adam\n",
    "import tensorflow as tf\n",
    "import tensorflow_probability as tfp\n",
    "import os\n",
    "physical_devices = tf.config.list_physical_devices('GPU') \n",
    "print(\"Num GPUs:\", len(physical_devices)) \n",
    "\n",
    "from trainer import Trainer\n",
    "try:\n",
    "    from Utils.connection_cfg import *\n",
    "except Exception as e:\n",
    "    PSWD = None\n",
    "    USRN = None\n",
    "    \n",
    "from Utils.Data import dataWrapper, provideData\n",
    "from Utils.transform import cutOut"
   ]
  },
  {
   "cell_type": "code",
   "execution_count": 2,
   "metadata": {},
   "outputs": [],
   "source": [
    "dimension = (64,64)\n",
    "channels = 7\n",
    "optimizer = Adam( lr = 1e-3 )\n",
    "#slices = [224,352,224,352]\n",
    "slices = [256,320,256,320]\n",
    "cutOutFrame = cutOut(slices)\n",
    "\n",
    "PRETRAINING_TRANSFORMATIONS = [cutOutFrame]\n",
    "\n",
    "tfd = tfp.distributions\n",
    "def NLL(y_true, y_hat):\n",
    "    return -y_hat.log_prob(y_true[:,:])\n",
    "                           \n",
    "def mixd(output):\n",
    "    rate = tf.math.exp(output[0,:,:,0]) #A \n",
    "    s = tf.math.sigmoid(output[0,:,:,1])\n",
    "    components = [tfd.Deterministic(loc=tf.zeros_like(rate)), #E\n",
    "     tfd.Poisson(rate=rate) #F \n",
    "     ]\n",
    "    mixture = tfd.Mixture(\n",
    "          cat=tfd.Categorical(probs=tf.stack([1-s, s],axis=-1)),#D\n",
    "          components=components)\n",
    "    \n",
    "    return mixture\n",
    "    \n",
    "def testnetPoisson(input_shape,\n",
    "           n_predictions=1,\n",
    "           simpleclassification=None,\n",
    "           flatten_output=False,\n",
    "           activation_hidden=\"relu\",\n",
    "           activation_output=\"relu\"):\n",
    "\n",
    "\n",
    "    inputs = Input(shape=input_shape) \n",
    "\n",
    "    conv01 = Conv2D(10, kernel_size=(3, 3), padding=\"same\")(inputs)       # 10 x 64x64\n",
    "    conv01 = Activation(activation_hidden)(conv01)\n",
    "    conv01_pool = MaxPooling2D((2, 2), strides=(2, 2))(conv01)            # 10 x 32x32\n",
    "\n",
    "\n",
    "    conv02 = Conv2D(20, kernel_size=(3, 3), padding=\"same\")(conv01_pool)  # 20 x 32x32\n",
    "    conv02 = Activation(activation_hidden)(conv02)\n",
    "    conv02_pool = MaxPooling2D((2, 2), strides=(2, 2))(conv02)            # 20 x 16x16\n",
    "\n",
    "\n",
    "    conv03 = Conv2D(20, kernel_size=(3, 3), padding=\"same\")(conv02_pool)  # 20 x 16x16\n",
    "    conv03 = Activation(activation_hidden)(conv03)\n",
    "    conv03_pool = MaxPooling2D((2, 2), strides=(2, 2))(conv03)            # 20 x 8x8\n",
    "\n",
    "\n",
    "    conv04 = Conv2D(20, kernel_size=(3, 3), padding=\"same\")(conv03_pool)  # 20 x 8x8\n",
    "    conv04 = Activation(activation_hidden)(conv04)\n",
    "    conv04_pool = MaxPooling2D((2, 2), strides=(2, 2))(conv04)            # 20 x 4x4\n",
    "\n",
    "\n",
    "    ### UPSAMPLING:\n",
    "    up04 = UpSampling2D((2, 2))(conv04_pool)    # 20 x 8x8\n",
    "    up04 = concatenate([conv04, up04], axis=3)  # 20+20 x 8x8\n",
    "\n",
    "\n",
    "    up03 = UpSampling2D((2, 2))(up04)           # 40 x 16x16\n",
    "    up03 = concatenate([conv03, up03], axis=3)  # 20+40 x 16x16\n",
    "\n",
    "\n",
    "    up02 = UpSampling2D((2, 2))(up03)           # 60 x 32x32\n",
    "    up02 = concatenate([conv02, up02], axis=3)  # 20+60 x 32x32\n",
    "\n",
    "\n",
    "    up01 = UpSampling2D((2, 2))(up02)           # 80 x 64x64\n",
    "    up01 = concatenate([conv01, up01], axis=3)  # 10+80 x 64x64\n",
    "\n",
    "    \n",
    "    output = Conv2D(16, (1, 1), activation=\"relu\")(up01)  # 1 x 64x64\n",
    "    output = Flatten()(output)\n",
    "    \n",
    "    output = Dense(16*16)(output)\n",
    "    #output = Activation(tf.math.softplus)(output)\n",
    "    output = Dropout(0.25)(output)\n",
    "    output = Dense(64*64)(output)\n",
    "    output = tfp.layers.IndependentPoisson((64,64,1))(output)\n",
    "    model = Model(inputs=inputs, outputs=output)\n",
    "    return model\n",
    "\n",
    "DatasetFolder = \"./Data/RAW\"\n",
    "PathToData = os.path.join(DatasetFolder,\"MonthPNGData\")"
   ]
  },
  {
   "cell_type": "code",
   "execution_count": 3,
   "metadata": {
    "scrolled": true
   },
   "outputs": [
    {
     "ename": "TypeError",
     "evalue": "provideData() got an unexpected keyword argument 'years'",
     "output_type": "error",
     "traceback": [
      "\u001b[0;31m---------------------------------------------------------------------------\u001b[0m",
      "\u001b[0;31mTypeError\u001b[0m                                 Traceback (most recent call last)",
      "\u001b[0;32m<ipython-input-3-5bd14f7339fb>\u001b[0m in \u001b[0;36m<module>\u001b[0;34m\u001b[0m\n\u001b[1;32m     10\u001b[0m                           \u001b[0mtimeToPred\u001b[0m \u001b[0;34m=\u001b[0m \u001b[0;36m5\u001b[0m\u001b[0;34m,\u001b[0m\u001b[0;34m\u001b[0m\u001b[0;34m\u001b[0m\u001b[0m\n\u001b[1;32m     11\u001b[0m                           \u001b[0myears\u001b[0m \u001b[0;34m=\u001b[0m \u001b[0;34m[\u001b[0m\u001b[0;36m2015\u001b[0m\u001b[0;34m,\u001b[0m\u001b[0;36m2016\u001b[0m\u001b[0;34m,\u001b[0m\u001b[0;36m2017\u001b[0m\u001b[0;34m]\u001b[0m\u001b[0;34m,\u001b[0m\u001b[0;34m\u001b[0m\u001b[0;34m\u001b[0m\u001b[0m\n\u001b[0;32m---> 12\u001b[0;31m                           preTransformation=PRETRAINING_TRANSFORMATIONS)\n\u001b[0m",
      "\u001b[0;31mTypeError\u001b[0m: provideData() got an unexpected keyword argument 'years'"
     ]
    }
   ],
   "source": [
    "batch_size=100\n",
    "tfd = tfp.distributions\n",
    "def NLL(y_true, y_hat):\n",
    "    return -y_hat.log_prob(y_true)\n",
    "\n",
    "train, test = provideData(dimension=dimension,\n",
    "                          batch_size=batch_size,\n",
    "                          transform=None,\n",
    "                          channels = channels,\n",
    "                          timeToPred = 5,\n",
    "                          year = [2015,2016,2017],\n",
    "                          preTransformation=PRETRAINING_TRANSFORMATIONS)"
   ]
  },
  {
   "cell_type": "code",
   "execution_count": null,
   "metadata": {},
   "outputs": [],
   "source": [
    "t = Trainer(testnetPoisson,\n",
    "                    lossfunction=NLL,\n",
    "                    pathToData=(train,test),\n",
    "                    batch_size = batch_size,\n",
    "                    optimizer=optimizer,\n",
    "                    dimension = dimension,\n",
    "                    channels = channels,\n",
    "                    metrics = [\"mse\",\"mae\"])"
   ]
  },
  {
   "cell_type": "code",
   "execution_count": null,
   "metadata": {},
   "outputs": [],
   "source": [
    "t.fit(10)\n"
   ]
  },
  {
   "cell_type": "code",
   "execution_count": null,
   "metadata": {},
   "outputs": [],
   "source": [
    "import matplotlib.pyplot as plt\n",
    "from matplotlib import cm\n",
    "from matplotlib.pyplot import figure\n",
    "import numpy as np\n",
    "%matplotlib inline\n",
    "history = t.history\n",
    "def plotHistory():\n",
    "    # Plot training & validation accuracy values\n",
    "    plt.plot(history['mse'])\n",
    "    plt.plot(history['val_mse'])\n",
    "    plt.title('Model MSE')\n",
    "    plt.ylabel('MSE')\n",
    "    plt.xlabel('Epoch')\n",
    "    plt.legend(['Train', 'Test'], loc='upper left')\n",
    "    plt.show()\n",
    "\n",
    "    # Plot training & validation loss values\n",
    "    plt.plot(history['loss'])\n",
    "    plt.plot(history['val_loss'])\n",
    "    plt.title('Model loss')\n",
    "    plt.ylabel('Loss')\n",
    "    plt.xlabel('Epoch')\n",
    "    plt.legend(['Train', 'Test'], loc='upper left')\n",
    "    plt.show()\n",
    "plotHistory()"
   ]
  },
  {
   "cell_type": "code",
   "execution_count": null,
   "metadata": {},
   "outputs": [],
   "source": [
    "model = t.model\n",
    "pred = None\n",
    "label = None\n",
    "pred = 10\n",
    "test.on_epoch_end()\n",
    "mean = []\n",
    "stdev = []\n",
    "label = []\n",
    "for x,y in test:\n",
    "    for i in range(batch_size):\n",
    "        if y[i,:,:,:].max() > 0:\n",
    "            pred = model(np.array([x[i,:,:,:]]))\n",
    "            mean.append(pred.mean())\n",
    "            stdev.append(pred.stddev())\n",
    "            label.append(y[i,:,:,:])\n",
    "        #mean = model(x).mean()\n",
    "        #std = model(x).stddev()\n",
    "        #label = y\n",
    "        break"
   ]
  },
  {
   "cell_type": "code",
   "execution_count": null,
   "metadata": {
    "scrolled": true
   },
   "outputs": [],
   "source": [
    "fig, axes = plt.subplots(10, 3, figsize=(16,8*10),dpi=64)\n",
    "#fig.set_title([\"mean\",\"stdev\",\"label\"])\n",
    "for batch,img in enumerate(mean):\n",
    "    if batch == 10:\n",
    "        break\n",
    "    axes[batch,0].imshow(img[0,:,:,0],cmap=\"gray\")\n",
    "    axes[batch,1].imshow(stdev[batch][0,:,:,0],cmap=\"gray\")\n",
    "    axes[batch,2].imshow(label[batch][0,:,:],cmap=\"gray\")"
   ]
  },
  {
   "cell_type": "code",
   "execution_count": null,
   "metadata": {},
   "outputs": [],
   "source": [
    "import numpy as np\n",
    "class ToUint8(object):\n",
    "    \"\"\"docstring for ToUint8\"\"\"\n",
    "    def __init__(self):\n",
    "        super(ToUint8, self).__init__()\n",
    "              \n",
    "        \n",
    "    def __call__(self,img):\n",
    "        return (img[0,:,:,0].mean() * 255).astype(np.uint8)"
   ]
  },
  {
   "cell_type": "code",
   "execution_count": null,
   "metadata": {
    "scrolled": true
   },
   "outputs": [],
   "source": [
    "\n",
    "from Evaluation import Evaluation\n",
    "from Utils.Data import provideData\n",
    "model = t.model\n",
    "BATCH_SIZE = 1\n",
    "CHANNELS = 7\n",
    "NUMBER_OF_TIMESTEPS = 2000\n",
    "NUMBER_OF_PREDICTIONS = 1\n",
    "evaluation = Evaluation('Poisson_480x480_30min_Eval',\n",
    "                        Data=provideData(batch_size=BATCH_SIZE, dimension=dimension,\n",
    "                                         preTransformation=PRETRAINING_TRANSFORMATIONS, \n",
    "                                         transform = [], \n",
    "                                         channels=CHANNELS,\n",
    "                                         timeToPred = 30),\n",
    "                        batch_size=BATCH_SIZE,\n",
    "                        channels=CHANNELS,\n",
    "                        dimension=dimension,\n",
    "                        number_of_predictions=NUMBER_OF_PREDICTIONS,\n",
    "                        time_steps=NUMBER_OF_TIMESTEPS,\n",
    "                        transform_predictions=[ToUint8()],\n",
    "                        model=model\n",
    "                        \n",
    "                        )\n",
    "!rm -rf ./Evaluation\n",
    "evaluation.make_predictions()"
   ]
  },
  {
   "cell_type": "code",
   "execution_count": null,
   "metadata": {},
   "outputs": [],
   "source": [
    "evaluation.create_grayscale_gif(200)\n",
    "evaluation.evaluation(rain_no_rain=True, four_categories=True, weather_changes_two_categories=True)\n",
    "evaluation.create_report()"
   ]
  }
 ],
 "metadata": {
  "kernelspec": {
   "display_name": "Python 3",
   "language": "python",
   "name": "python3"
  },
  "language_info": {
   "codemirror_mode": {
    "name": "ipython",
    "version": 3
   },
   "file_extension": ".py",
   "mimetype": "text/x-python",
   "name": "python",
   "nbconvert_exporter": "python",
   "pygments_lexer": "ipython3",
   "version": "3.7.7"
  }
 },
 "nbformat": 4,
 "nbformat_minor": 4
}
