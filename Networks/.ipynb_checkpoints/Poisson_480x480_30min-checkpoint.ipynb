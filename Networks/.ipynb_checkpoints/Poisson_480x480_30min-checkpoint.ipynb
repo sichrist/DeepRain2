{
 "cells": [
  {
   "cell_type": "code",
   "execution_count": 1,
   "metadata": {},
   "outputs": [
    {
     "name": "stdout",
     "output_type": "stream",
     "text": [
      "Num GPUs: 1\n",
      "Num GPUs Available: 1\n"
     ]
    },
    {
     "name": "stderr",
     "output_type": "stream",
     "text": [
      "Using TensorFlow backend.\n"
     ]
    }
   ],
   "source": [
    "from tensorflow.keras import Sequential, Model\n",
    "from tensorflow.keras.layers import *\n",
    "from tensorflow.keras.optimizers import Adam\n",
    "import tensorflow as tf\n",
    "import tensorflow_probability as tfp\n",
    "import os\n",
    "physical_devices = tf.config.list_physical_devices('GPU') \n",
    "print(\"Num GPUs:\", len(physical_devices)) \n",
    "\n",
    "from trainer import Trainer\n",
    "try:\n",
    "    from Utils.connection_cfg import *\n",
    "except Exception as e:\n",
    "    PSWD = None\n",
    "    USRN = None\n",
    "    \n",
    "from Utils.Data import provideData\n",
    "from Utils.transform import cutOut\n"
   ]
  },
  {
   "cell_type": "code",
   "execution_count": 2,
   "metadata": {},
   "outputs": [],
   "source": [
    "dimension = (128,128)\n",
    "channels = 5\n",
    "optimizer = Adam( lr = 1e-4 )\n",
    "slices = [224,352,224,352]\n",
    "slices_label = [32,64+32,32,64+32]\n",
    "cutOutFrame = cutOut(slices)\n",
    "cutOutFrame_label = cutOut(slices_label)\n",
    "\n",
    "PRETRAINING_TRANSFORMATIONS = [cutOutFrame]\n",
    "TRANSFORMATION = [cutOutFrame_label]\n",
    "tfd = tfp.distributions\n",
    "def NLL(y_true, y_hat):\n",
    "    return -y_hat.log_prob(y_true[:,:])\n",
    "                           \n",
    "def mixd(output):\n",
    "    rate = tf.math.exp(output[0,:,:,0]) #A \n",
    "    s = tf.math.sigmoid(output[0,:,:,1])\n",
    "    components = [tfd.Deterministic(loc=tf.zeros_like(rate)), #E\n",
    "     tfd.Poisson(rate=rate) #F \n",
    "     ]\n",
    "    mixture = tfd.Mixture(\n",
    "          cat=tfd.Categorical(probs=tf.stack([1-s, s],axis=-1)),#D\n",
    "          components=components)\n",
    "    \n",
    "    return mixture\n",
    "    \n",
    "def testnetPoisson_3(input_shape,\n",
    "           n_predictions=1,\n",
    "           simpleclassification=None,\n",
    "           flatten_output=False,\n",
    "           activation_hidden=\"relu\",\n",
    "           activation_output=\"relu\"):\n",
    "\n",
    "\n",
    "    inputs = Input(shape=input_shape) \n",
    "\n",
    "    conv01 = Conv2D(10, kernel_size=(3, 3), padding=\"same\")(inputs)       # 10 x 64x64\n",
    "    conv01 = Activation(activation_hidden)(conv01)\n",
    "    conv01_pool = MaxPooling2D((2, 2), strides=(2, 2))(conv01)            # 10 x 32x32\n",
    "\n",
    "\n",
    "    conv02 = Conv2D(20, kernel_size=(3, 3), padding=\"same\")(conv01_pool)  # 20 x 32x32\n",
    "    conv02 = Activation(activation_hidden)(conv02)\n",
    "    conv02_pool = MaxPooling2D((2, 2), strides=(2, 2))(conv02)            # 20 x 16x16\n",
    "\n",
    "\n",
    "    conv03 = Conv2D(20, kernel_size=(3, 3), padding=\"same\")(conv02_pool)  # 20 x 16x16\n",
    "    conv03 = Activation(activation_hidden)(conv03)\n",
    "    conv03_pool = MaxPooling2D((2, 2), strides=(2, 2))(conv03)            # 20 x 8x8\n",
    "\n",
    "\n",
    "    conv04 = Conv2D(20, kernel_size=(3, 3), padding=\"same\")(conv03_pool)  # 20 x 8x8\n",
    "    conv04 = Activation(activation_hidden)(conv04)\n",
    "    conv04_pool = MaxPooling2D((2, 2), strides=(2, 2))(conv04)            # 20 x 4x4\n",
    "\n",
    "\n",
    "    ### UPSAMPLING:\n",
    "    up04 = UpSampling2D((2, 2))(conv04_pool)    # 20 x 8x8\n",
    "    up04 = concatenate([conv04, up04], axis=3)  # 20+20 x 8x8\n",
    "\n",
    "\n",
    "    up03 = UpSampling2D((2, 2))(up04)           # 40 x 16x16\n",
    "    up03 = concatenate([conv03, up03], axis=3)  # 20+40 x 16x16\n",
    "\n",
    "\n",
    "    up02 = UpSampling2D((2, 2))(up03)           # 60 x 32x32\n",
    "    up02 = concatenate([conv02, up02], axis=3)  # 20+60 x 32x32\n",
    "\n",
    "\n",
    "    up01 = UpSampling2D((2, 2))(up02)           # 80 x 64x64\n",
    "    up01 = concatenate([conv01, up01], axis=3)  # 10+80 x 64x64\n",
    "    up01 = MaxPooling2D((2, 2), strides=(2, 2))(up01)\n",
    "    \n",
    "    output = Conv2D(7, (1, 1), activation=\"relu\")(up01)  # 1 x 64x64\n",
    "    \n",
    "    output = Flatten()(output)\n",
    "    output = Dense(16*16)(output)\n",
    "    output = Dropout(0.1)(output)\n",
    "    output = Dense(64*64,activation=tf.math.softmax)(output)\n",
    "    rate = tf.keras.layers.Reshape((64,64,1))(output)\n",
    "    \n",
    "    #output = tfp.layers.IndependentPoisson((64,64,1))(output)\n",
    "    output_dist = tfp.layers.DistributionLambda(\n",
    "    make_distribution_fn=lambda t: tfp.distributions.Poisson(\n",
    "            rate=t),\n",
    "            #reinterpreted_batch_ndims=3\n",
    "    )\n",
    "    output = output_dist(rate)\n",
    "    model = Model(inputs=inputs, outputs=output)\n",
    "    return model\n"
   ]
  },
  {
   "cell_type": "code",
   "execution_count": 3,
   "metadata": {
    "scrolled": true
   },
   "outputs": [
    {
     "name": "stdout",
     "output_type": "stream",
     "text": [
      "\u001b[33mFound Year \u001b[0m:  2017 => won't download this year again... please check for consistency\n",
      "\u001b[33mFound Year \u001b[0m:  2016 => won't download this year again... please check for consistency\n",
      "\u001b[33mFound Year \u001b[0m:  2015 => won't download this year again... please check for consistency\n",
      "\u001b[32mFinished Loading Dataset\n",
      " \u001b[0m\n",
      "[DEBUG] Data\n",
      "[DEBUG] time to predict:  30\n",
      "[DEBUG] Data\n",
      "[DEBUG] time to predict:  30\n"
     ]
    }
   ],
   "source": [
    "\n",
    "optimizer = Adam( lr = 1e-3 )\n",
    "batch_size=100\n",
    "tfd = tfp.distributions\n",
    "def NLL(y_true, y_hat):\n",
    "    return -y_hat.log_prob(y_true)\n",
    "\n",
    "train, test = provideData(dimension=dimension,\n",
    "                          channels = channels,\n",
    "                          timeToPred = 30,\n",
    "                          batch_size=batch_size,\n",
    "                          transform=TRANSFORMATION,\n",
    "                          year = [2017,2016,2015],\n",
    "                          preTransformation=PRETRAINING_TRANSFORMATIONS)"
   ]
  },
  {
   "cell_type": "code",
   "execution_count": 4,
   "metadata": {
    "scrolled": false
   },
   "outputs": [
    {
     "name": "stdout",
     "output_type": "stream",
     "text": [
      "[Load file failed]  ./model_data/testnetPoisson_3_function/testnetPoisson_3_function128x128x5.h5\n",
      "[Load file failed]  ./model_data/testnetPoisson_3_function/testnetPoisson_3_function128x128x5history.json\n",
      "Model: \"model\"\n",
      "__________________________________________________________________________________________________\n",
      "Layer (type)                    Output Shape         Param #     Connected to                     \n",
      "==================================================================================================\n",
      "input_1 (InputLayer)            [(None, 128, 128, 5) 0                                            \n",
      "__________________________________________________________________________________________________\n",
      "conv2d (Conv2D)                 (None, 128, 128, 10) 460         input_1[0][0]                    \n",
      "__________________________________________________________________________________________________\n",
      "activation (Activation)         (None, 128, 128, 10) 0           conv2d[0][0]                     \n",
      "__________________________________________________________________________________________________\n",
      "max_pooling2d (MaxPooling2D)    (None, 64, 64, 10)   0           activation[0][0]                 \n",
      "__________________________________________________________________________________________________\n",
      "conv2d_1 (Conv2D)               (None, 64, 64, 20)   1820        max_pooling2d[0][0]              \n",
      "__________________________________________________________________________________________________\n",
      "activation_1 (Activation)       (None, 64, 64, 20)   0           conv2d_1[0][0]                   \n",
      "__________________________________________________________________________________________________\n",
      "max_pooling2d_1 (MaxPooling2D)  (None, 32, 32, 20)   0           activation_1[0][0]               \n",
      "__________________________________________________________________________________________________\n",
      "conv2d_2 (Conv2D)               (None, 32, 32, 20)   3620        max_pooling2d_1[0][0]            \n",
      "__________________________________________________________________________________________________\n",
      "activation_2 (Activation)       (None, 32, 32, 20)   0           conv2d_2[0][0]                   \n",
      "__________________________________________________________________________________________________\n",
      "max_pooling2d_2 (MaxPooling2D)  (None, 16, 16, 20)   0           activation_2[0][0]               \n",
      "__________________________________________________________________________________________________\n",
      "conv2d_3 (Conv2D)               (None, 16, 16, 20)   3620        max_pooling2d_2[0][0]            \n",
      "__________________________________________________________________________________________________\n",
      "activation_3 (Activation)       (None, 16, 16, 20)   0           conv2d_3[0][0]                   \n",
      "__________________________________________________________________________________________________\n",
      "max_pooling2d_3 (MaxPooling2D)  (None, 8, 8, 20)     0           activation_3[0][0]               \n",
      "__________________________________________________________________________________________________\n",
      "up_sampling2d (UpSampling2D)    (None, 16, 16, 20)   0           max_pooling2d_3[0][0]            \n",
      "__________________________________________________________________________________________________\n",
      "concatenate (Concatenate)       (None, 16, 16, 40)   0           activation_3[0][0]               \n",
      "                                                                 up_sampling2d[0][0]              \n",
      "__________________________________________________________________________________________________\n",
      "up_sampling2d_1 (UpSampling2D)  (None, 32, 32, 40)   0           concatenate[0][0]                \n",
      "__________________________________________________________________________________________________\n",
      "concatenate_1 (Concatenate)     (None, 32, 32, 60)   0           activation_2[0][0]               \n",
      "                                                                 up_sampling2d_1[0][0]            \n",
      "__________________________________________________________________________________________________\n",
      "up_sampling2d_2 (UpSampling2D)  (None, 64, 64, 60)   0           concatenate_1[0][0]              \n",
      "__________________________________________________________________________________________________\n",
      "concatenate_2 (Concatenate)     (None, 64, 64, 80)   0           activation_1[0][0]               \n",
      "                                                                 up_sampling2d_2[0][0]            \n",
      "__________________________________________________________________________________________________\n",
      "up_sampling2d_3 (UpSampling2D)  (None, 128, 128, 80) 0           concatenate_2[0][0]              \n",
      "__________________________________________________________________________________________________\n",
      "concatenate_3 (Concatenate)     (None, 128, 128, 90) 0           activation[0][0]                 \n",
      "                                                                 up_sampling2d_3[0][0]            \n",
      "__________________________________________________________________________________________________\n",
      "max_pooling2d_4 (MaxPooling2D)  (None, 64, 64, 90)   0           concatenate_3[0][0]              \n",
      "__________________________________________________________________________________________________\n",
      "conv2d_4 (Conv2D)               (None, 64, 64, 7)    637         max_pooling2d_4[0][0]            \n",
      "__________________________________________________________________________________________________\n",
      "flatten (Flatten)               (None, 28672)        0           conv2d_4[0][0]                   \n",
      "__________________________________________________________________________________________________\n",
      "dense (Dense)                   (None, 256)          7340288     flatten[0][0]                    \n",
      "__________________________________________________________________________________________________\n",
      "dropout (Dropout)               (None, 256)          0           dense[0][0]                      \n",
      "__________________________________________________________________________________________________\n",
      "dense_1 (Dense)                 (None, 4096)         1052672     dropout[0][0]                    \n",
      "__________________________________________________________________________________________________\n",
      "reshape (Reshape)               (None, 64, 64, 1)    0           dense_1[0][0]                    \n",
      "__________________________________________________________________________________________________\n",
      "distribution_lambda (Distributi ((None, 64, 64, 1),  0           reshape[0][0]                    \n",
      "==================================================================================================\n",
      "Total params: 8,403,117\n",
      "Trainable params: 8,403,117\n",
      "Non-trainable params: 0\n",
      "__________________________________________________________________________________________________\n",
      "(100, 128, 128, 5)\n",
      "(100, 64, 64, 1)\n",
      "len train,val 2367 788\n"
     ]
    },
    {
     "name": "stderr",
     "output_type": "stream",
     "text": [
      "/home/simon/Dokumente/Teamprojekt/DeepRain2/Networks/Utils/transform.py:108: FutureWarning: Using a non-tuple sequence for multidimensional indexing is deprecated; use `arr[tuple(seq)]` instead of `arr[seq]`. In the future this will be interpreted as an array index, `arr[np.array(seq)]`, which will result either in an error or a different result.\n",
      "  return img[self.slices]\n"
     ]
    }
   ],
   "source": [
    "t = Trainer(testnetPoisson_3,\n",
    "                    NLL,\n",
    "                    (train,test),\n",
    "                    batch_size = batch_size,\n",
    "                    optimizer=optimizer,\n",
    "                    dimension = dimension,\n",
    "                    channels = channels,\n",
    "                    metrics = [\"mse\",\"mae\"])\n",
    "\n",
    "print(test[0][0].shape)\n",
    "print(test[0][1].shape)\n",
    "print(\"len train,val\",len(train),len(test))"
   ]
  },
  {
   "cell_type": "code",
   "execution_count": null,
   "metadata": {
    "scrolled": false
   },
   "outputs": [
    {
     "name": "stdout",
     "output_type": "stream",
     "text": [
      "Epoch 1/5\n",
      "  21/2367 [..............................] - ETA: 6:15 - loss: nan - mse: 0.8697 - mae: 0.4607   "
     ]
    }
   ],
   "source": [
    "t.fit(5)"
   ]
  },
  {
   "cell_type": "code",
   "execution_count": null,
   "metadata": {},
   "outputs": [],
   "source": [
    "import matplotlib.pyplot as plt\n",
    "from matplotlib import cm\n",
    "from matplotlib.pyplot import figure\n",
    "import numpy as np\n",
    "%matplotlib inline\n",
    "history = t.history\n",
    "def plotHistory():\n",
    "    # Plot training & validation accuracy values\n",
    "    plt.plot(history['mse'])\n",
    "    plt.plot(history['val_mse'])\n",
    "    plt.title('Model MSE')\n",
    "    plt.ylabel('MSE')\n",
    "    plt.xlabel('Epoch')\n",
    "    plt.legend(['Train', 'Test'], loc='upper left')\n",
    "    plt.show()\n",
    "\n",
    "    # Plot training & validation loss values\n",
    "    plt.plot(history['loss'])\n",
    "    plt.plot(history['val_loss'])\n",
    "    plt.title('Model loss')\n",
    "    plt.ylabel('Loss')\n",
    "    plt.xlabel('Epoch')\n",
    "    plt.legend(['Train', 'Test'], loc='upper left')\n",
    "    plt.show()\n",
    "plotHistory()"
   ]
  },
  {
   "cell_type": "code",
   "execution_count": null,
   "metadata": {},
   "outputs": [],
   "source": [
    "model = t.model\n",
    "pred = None\n",
    "label = None\n",
    "pred_ = 20\n",
    "test.on_epoch_end()\n",
    "mean = []\n",
    "stdev = []\n",
    "label = []\n",
    "for x,y in test:\n",
    "    for i in range(batch_size):\n",
    "        if y[i,:,:,:].max() > 0:\n",
    "            pred = model(np.array([x[i,:,:,:]]))\n",
    "            mean.append(pred.mean())\n",
    "            stdev.append(pred.stddev())\n",
    "            label.append(y[i,:,:,:])\n",
    "        #mean = model(x).mean()\n",
    "        #std = model(x).stddev()\n",
    "        #label = y\n",
    "    if len(label) >= pred_:\n",
    "        break"
   ]
  },
  {
   "cell_type": "code",
   "execution_count": null,
   "metadata": {
    "scrolled": true
   },
   "outputs": [],
   "source": [
    "fig, axes = plt.subplots(20, 2, figsize=(16,8*10),dpi=64)\n",
    "#fig.set_title([\"mean\",\"stdev\",\"label\"])\n",
    "for batch,img in enumerate(mean):\n",
    "    if batch == pred_:\n",
    "        break\n",
    "    axes[batch,0].imshow(img[0,:,:,0]*255.0,cmap=\"gray\")\n",
    "    #axes[batch,1].imshow(stdev[batch][0,:,:,0],cmap=\"gray\")\n",
    "    axes[batch,1].imshow(label[batch][:,:,0]*255.0,cmap=\"gray\")"
   ]
  },
  {
   "cell_type": "code",
   "execution_count": null,
   "metadata": {},
   "outputs": [],
   "source": []
  },
  {
   "cell_type": "code",
   "execution_count": null,
   "metadata": {},
   "outputs": [],
   "source": [
    "\n"
   ]
  },
  {
   "cell_type": "code",
   "execution_count": null,
   "metadata": {},
   "outputs": [],
   "source": []
  }
 ],
 "metadata": {
  "kernelspec": {
   "display_name": "Python 3",
   "language": "python",
   "name": "python3"
  },
  "language_info": {
   "codemirror_mode": {
    "name": "ipython",
    "version": 3
   },
   "file_extension": ".py",
   "mimetype": "text/x-python",
   "name": "python",
   "nbconvert_exporter": "python",
   "pygments_lexer": "ipython3",
   "version": "3.7.7"
  }
 },
 "nbformat": 4,
 "nbformat_minor": 4
}
