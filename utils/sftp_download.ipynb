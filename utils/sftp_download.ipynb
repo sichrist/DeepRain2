{
 "cells": [
  {
   "cell_type": "code",
   "execution_count": 18,
   "metadata": {},
   "outputs": [],
   "source": [
    "import getpass\n",
    "import paramiko\n",
    "import os\n",
    "\n",
    "HOST = \"iosds01.ios.htwg-konstanz.de\"\n",
    "PORT = 22\n",
    "PWD_ = \"/\"\n",
    "DOWNLOAD_PATH = PWD_+\"datascience/regenradar/Radardaten/2008/YW2017.002_200801.tar\""
   ]
  },
  {
   "cell_type": "code",
   "execution_count": 19,
   "metadata": {},
   "outputs": [],
   "source": [
    "def printProgress(transferred, toBeTransferred):\n",
    "\n",
    "    width = 50\n",
    "    percent = transferred / toBeTransferred\n",
    "    size = int(percent * width)\n",
    "    fetched = transferred / (1024**2)\n",
    "    total = toBeTransferred / (1024**2)\n",
    "    progress = \"%(current)d/%(total)d Mb\"\n",
    "\n",
    "    args = {\n",
    "        \"current\": fetched,\n",
    "        \"total\": total\n",
    "    }\n",
    "    bar = progress + ' [' + '#' * size + '#' + '.'*(width - size) + ']'\n",
    "    print(\"\\r\"+bar % args, end='')\n",
    "\n",
    "\n",
    "\n",
    "def downloadDataSet(root_dir,host,port,DOWNLOAD_PATH):\n",
    "\n",
    "    path = root_dir\n",
    "\n",
    "    transport = paramiko.Transport((host, port))\n",
    "\n",
    "    print(\"Downloading from:\", str(host + \"/\"+DOWNLOAD_PATH))\n",
    "    username = input('Enter your username\\n')\n",
    "    pswd = getpass.getpass('Enter your password:\\n')\n",
    "    print(\"Connecting to \"+host+\"...\")\n",
    "\n",
    "    transport.connect(username=username, password=pswd)\n",
    "    sftp = paramiko.SFTPClient.from_transport(transport)\n",
    "\n",
    "    if os.path.exists(path) == False:\n",
    "        os.makedirs(path)\n",
    "\n",
    "    print(\"Downloading...\")\n",
    "    sftp.get(remotepath=DOWNLOAD_PATH, localpath=path +\n",
    "                 \"/\"+DOWNLOAD_PATH.split(\"/\")[-1], callback=printProgress)\n",
    "    print(\"\\n\")\n",
    "\n",
    "\n",
    "    "
   ]
  },
  {
   "cell_type": "code",
   "execution_count": 20,
   "metadata": {},
   "outputs": [
    {
     "name": "stdout",
     "output_type": "stream",
     "text": [
      "Downloading from: iosds01.ios.htwg-konstanz.de//datascience/regenradar/Radardaten/2008/YW2017.002_200801.tar\n",
      "Enter your username\n",
      "admin\n",
      "Enter your password:\n",
      "········\n",
      "Connecting to iosds01.ios.htwg-konstanz.de...\n",
      "Downloading...\n",
      "415/415 Mb [###################################################]\n",
      "\n"
     ]
    }
   ],
   "source": [
    "downloadDataSet(\"./\",HOST,PORT,DOWNLOAD_PATH)"
   ]
  }
 ],
 "metadata": {
  "kernelspec": {
   "display_name": "Python 3",
   "language": "python",
   "name": "python3"
  },
  "language_info": {
   "codemirror_mode": {
    "name": "ipython",
    "version": 3
   },
   "file_extension": ".py",
   "mimetype": "text/x-python",
   "name": "python",
   "nbconvert_exporter": "python",
   "pygments_lexer": "ipython3",
   "version": "3.7.3"
  }
 },
 "nbformat": 4,
 "nbformat_minor": 2
}
