{
 "cells": [
  {
   "cell_type": "code",
   "execution_count": 1,
   "metadata": {},
   "outputs": [],
   "source": [
    "from Utils.Dataset import getData\n",
    "from Utils.transform import Normalize\n",
    "import numpy as np"
   ]
  },
  {
   "cell_type": "code",
   "execution_count": 5,
   "metadata": {},
   "outputs": [],
   "source": [
    "BATCH_SIZE = 1\n",
    "DIMENSION = (64,64)\n",
    "CHANNELS = 5\n",
    "\n",
    "x_transform = [Normalize(0.007742631458799244, 0.015872015890555563 )]\n",
    "\n",
    "train,test = getData(BATCH_SIZE,\n",
    "                         DIMENSION,CHANNELS,\n",
    "                         timeToPred=5,\n",
    "                         x_transform=x_transform)"
   ]
  },
  {
   "cell_type": "code",
   "execution_count": 3,
   "metadata": {},
   "outputs": [
    {
     "name": "stdout",
     "output_type": "stream",
     "text": [
      "0.007742631458799244 0.015872015890555563\n"
     ]
    }
   ],
   "source": [
    "mean = train.getMean()\n",
    "std = train.getStd()\n",
    "\n",
    "print(mean,std)"
   ]
  },
  {
   "cell_type": "code",
   "execution_count": 7,
   "metadata": {},
   "outputs": [],
   "source": [
    "std  = 0\n",
    "mean = 0\n",
    "\n",
    "for x,y in train:\n",
    "    img  = x[0,:,:,0]\n",
    "    mean += np.mean(img)\n",
    "    std  += np.std(img)\n"
   ]
  },
  {
   "cell_type": "code",
   "execution_count": 8,
   "metadata": {},
   "outputs": [
    {
     "name": "stdout",
     "output_type": "stream",
     "text": [
      "0.45675734229670384 0.96743007654283\n"
     ]
    }
   ],
   "source": [
    "print(mean/len(train),std/len(train))"
   ]
  }
 ],
 "metadata": {
  "kernelspec": {
   "display_name": "Python 3",
   "language": "python",
   "name": "python3"
  },
  "language_info": {
   "codemirror_mode": {
    "name": "ipython",
    "version": 3
   },
   "file_extension": ".py",
   "mimetype": "text/x-python",
   "name": "python",
   "nbconvert_exporter": "python",
   "pygments_lexer": "ipython3",
   "version": "3.7.7"
  }
 },
 "nbformat": 4,
 "nbformat_minor": 4
}
