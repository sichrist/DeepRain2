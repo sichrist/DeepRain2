{
 "cells": [
  {
   "cell_type": "code",
   "execution_count": 1,
   "metadata": {},
   "outputs": [
    {
     "name": "stdout",
     "output_type": "stream",
     "text": [
      "Num GPUs: 1\n"
     ]
    },
    {
     "name": "stderr",
     "output_type": "stream",
     "text": [
      "Using TensorFlow backend.\n"
     ]
    }
   ],
   "source": [
    "from zeroinflated_Poisson import *\n",
    "import matplotlib.pyplot as plt\n",
    "from matplotlib import cm\n",
    "from matplotlib.pyplot import figure\n",
    "from PIL import Image\n",
    "import numpy as np\n",
    "import seaborn as sns\n",
    "import pandas as pd\n",
    "from matplotlib import pyplot\n",
    "from Utils.eval import multiProc_eval,plotAUC\n",
    "from tensorflow.keras.optimizers import Adam\n",
    "import keras.backend.tensorflow_backend\n",
    "from keras.backend import clear_session\n",
    "from tensorflow.keras.models import Model,Sequential"
   ]
  },
  {
   "cell_type": "code",
   "execution_count": null,
   "metadata": {},
   "outputs": [],
   "source": [
    "source_model,modelpath,train,test = getModel(False)\n",
    "source_model.summary()\n",
    "predictions = source_model.layers[-2].output\n",
    "model = Model(inputs=source_model.inputs, outputs=predictions)\n",
    "model.summary()"
   ]
  },
  {
   "cell_type": "code",
   "execution_count": null,
   "metadata": {},
   "outputs": [],
   "source": [
    "history_path = os.path.join(modelpath,MODELNAME+\"_history.png\")\n",
    "figure(num=None, figsize=(10, 30), dpi=80, facecolor='w', edgecolor='k')\n",
    "loss = np.array(Image.open(history_path))\n",
    "plt.imshow(loss)\n",
    "plt.axis('off')\n",
    "plt.show()\n",
    "history_path = os.path.join(modelpath,MODELNAME+\"_history\")\n",
    "laststate = getBestState(modelpath,history_path)\n",
    "epoch = laststate[\"epoch\"]\n",
    "model.load_weights(laststate[\"modelpath\"])\n",
    "test.setWiggle_off()"
   ]
  },
  {
   "cell_type": "code",
   "execution_count": null,
   "metadata": {},
   "outputs": [],
   "source": [
    "def getFreshSet(batch_size=1):\n",
    "    x_transform = [Normalize(0.007742631458799244, 0.015872015890555563 )]\n",
    "    \n",
    "    train,test = getData(batch_size,\n",
    "                         DIMENSION,CHANNELS,\n",
    "                         timeToPred=10,\n",
    "                         x_transform=x_transform)\n",
    "    return train,test"
   ]
  },
  {
   "cell_type": "code",
   "execution_count": null,
   "metadata": {},
   "outputs": [],
   "source": [
    "from Models.Distributions import ZeroInflated_Poisson\n",
    "pred = None\n",
    "label = None\n",
    "pred = 20\n",
    "#test.on_epoch_end()\n",
    "mean = []\n",
    "stdev = []\n",
    "label = []\n",
    "predictions = []\n",
    "train,test = getFreshSet(50)\n",
    "test.on_epoch_end()\n",
    "test.setWiggle_off()\n",
    "atm = []\n",
    "for x,y in test:\n",
    "    for i in range(BATCH_SIZE):\n",
    "        if y[i,:,:,:].max() >= 0:\n",
    "            pred = model(np.array([x[i,:,:,:]]))\n",
    "            pred = ZeroInflated_Poisson()(pred)\n",
    "            mean.append(pred.mean())\n",
    "            stdev.append(pred.stddev())\n",
    "            label.append(y[i,:,:,:])\n",
    "            predictions.append((pred,y[i:,:,:]))\n",
    "            atm.append(x[i,:,:,-1:])\n",
    "            if len(label) == 20:\n",
    "                break\n",
    "        break\n",
    "    if len(label) == 20:\n",
    "                break"
   ]
  },
  {
   "cell_type": "code",
   "execution_count": null,
   "metadata": {
    "scrolled": false
   },
   "outputs": [],
   "source": [
    "fig, axes = plt.subplots(20, 4, figsize=(16,8*10),dpi=64)\n",
    "#fig.set_title([\"mean\",\"stdev\",\"label\"])\n",
    "for batch,img in enumerate(mean):\n",
    "    if batch == 20:\n",
    "        break\n",
    "    axes[batch,1].imshow(img[0,:,:,0],cmap=\"gray\")\n",
    "    axes[batch,0].imshow(stdev[batch][0,:,:,0],cmap=\"gray\")\n",
    "    axes[batch,2].imshow(label[batch][:,:,0],cmap=\"gray\")\n",
    "    axes[batch,3].imshow(atm[batch][:,:,0],cmap=\"gray\")\n",
    "plt.show()"
   ]
  },
  {
   "cell_type": "code",
   "execution_count": null,
   "metadata": {},
   "outputs": [],
   "source": [
    "def zPoisson(t):\n",
    "\n",
    "    return tfp.distributions.Independent(tfd.Mixture(\n",
    "                                  cat=tfd.Categorical(tf.stack([1-t[...,:1], t[...,:1]],axis=-1)),\n",
    "                                  components=[tfd.Deterministic(loc=tf.zeros_like(t[...,:1])),\n",
    "                                  tfd.Poisson(rate=tf.math.softplus(t[...,1:2]))])\n",
    "                              ,name=\"ZeroInflated\",reinterpreted_batch_ndims=0 )\n",
    "\n",
    "baseline = multiProc_eval(model,test,getFreshSet,dist = zPoisson)"
   ]
  },
  {
   "cell_type": "code",
   "execution_count": null,
   "metadata": {},
   "outputs": [],
   "source": [
    "baseline_dict = baseline.copy()"
   ]
  },
  {
   "cell_type": "code",
   "execution_count": null,
   "metadata": {},
   "outputs": [],
   "source": [
    "plotAUC(baseline_dict)"
   ]
  }
 ],
 "metadata": {
  "kernelspec": {
   "display_name": "Python 3",
   "language": "python",
   "name": "python3"
  },
  "language_info": {
   "codemirror_mode": {
    "name": "ipython",
    "version": 3
   },
   "file_extension": ".py",
   "mimetype": "text/x-python",
   "name": "python",
   "nbconvert_exporter": "python",
   "pygments_lexer": "ipython3",
   "version": "3.7.7"
  }
 },
 "nbformat": 4,
 "nbformat_minor": 4
}
